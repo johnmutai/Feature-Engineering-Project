{
  "nbformat": 4,
  "nbformat_minor": 0,
  "metadata": {
    "colab": {
      "provenance": []
    },
    "kernelspec": {
      "name": "python3",
      "display_name": "Python 3"
    },
    "language_info": {
      "name": "python"
    }
  },
  "cells": [
    {
      "cell_type": "markdown",
      "source": [
        "# Feature Engineering Project"
      ],
      "metadata": {
        "id": "cFmgA1m1rMak"
      }
    },
    {
      "cell_type": "markdown",
      "source": [
        "## 1. Defining the research question:\n",
        "\n"
      ],
      "metadata": {
        "id": "2mu5D7fDM5-m"
      }
    },
    {
      "cell_type": "markdown",
      "source": [
        "### Background:\n",
        "\n",
        "Sendy\n",
        "is a business-to-business platform established in 2014, to enable businesses of all types\n",
        "and sizes to transport goods more efficiently across East Africa. The company is\n",
        "headquartered in Kenya with a team of more than 100 staff, focused on building practical\n",
        "solutions for Africa’s dynamic transportation needs, from developing apps and web\n",
        "solutions to providing dedicated support for goods on the move.\n"
      ],
      "metadata": {
        "id": "eWpcOADRNLsu"
      }
    },
    {
      "cell_type": "markdown",
      "source": [
        "### Problem Statement:\n",
        "\n",
        "Sendy has hired you to help predict the estimated time of delivery of orders, from the\n",
        "point of driver pickup to the point of arrival at the final destination. Build a model that\n",
        "predicts an accurate delivery time, from picking up a package arriving at the final\n",
        "destination. An accurate arrival time prediction will help all business to improve their\n",
        "logistics and communicate the accurate time their time to their customers. You will be\n",
        "required to perform various feature engineering techniques while preparing your data for\n",
        "further analysis."
      ],
      "metadata": {
        "id": "gRAwkVO0NUBe"
      }
    },
    {
      "cell_type": "markdown",
      "source": [
        "## 2. Import the required libraries"
      ],
      "metadata": {
        "id": "3ZEVwE-OMfmT"
      }
    },
    {
      "cell_type": "code",
      "execution_count": 97,
      "metadata": {
        "id": "psV0B4CrU9MW"
      },
      "outputs": [],
      "source": [
        "import pandas as pd\n",
        "import numpy as np\n",
        "from sklearn.model_selection import train_test_split\n",
        "from sklearn.svm import SVR \n",
        "from sklearn.neighbors import KNeighborsRegressor\n",
        "from sklearn.tree import DecisionTreeRegressor\n",
        "from sklearn import metrics   \n",
        "from sklearn.preprocessing import MinMaxScaler\n",
        "from sklearn.preprocessing import StandardScaler\n",
        "from sklearn.decomposition import PCA\n",
        "from sklearn.discriminant_analysis import LinearDiscriminantAnalysis\n",
        "\n"
      ]
    },
    {
      "cell_type": "markdown",
      "source": [
        "## 3. Data Cleaning and preparation"
      ],
      "metadata": {
        "id": "kC5IAo7lMuDY"
      }
    },
    {
      "cell_type": "code",
      "source": [
        "# Load data\n",
        "\n",
        "sendy = pd.read_csv('https://bit.ly/3deaKEM')\n",
        "sendy.head()"
      ],
      "metadata": {
        "colab": {
          "base_uri": "https://localhost:8080/",
          "height": 456
        },
        "id": "bL0MCuMyVMsV",
        "outputId": "05cdb2db-298a-4f8f-ba98-67aa57ae8240"
      },
      "execution_count": 98,
      "outputs": [
        {
          "output_type": "execute_result",
          "data": {
            "text/plain": [
              "         Order No       User Id Vehicle Type  Platform Type  \\\n",
              "0   Order_No_4211   User_Id_633         Bike              3   \n",
              "1  Order_No_25375  User_Id_2285         Bike              3   \n",
              "2   Order_No_1899   User_Id_265         Bike              3   \n",
              "3   Order_No_9336  User_Id_1402         Bike              3   \n",
              "4  Order_No_27883  User_Id_1737         Bike              1   \n",
              "\n",
              "  Personal or Business  Placement - Day of Month  \\\n",
              "0             Business                         9   \n",
              "1             Personal                        12   \n",
              "2             Business                        30   \n",
              "3             Business                        15   \n",
              "4             Personal                        13   \n",
              "\n",
              "   Placement - Weekday (Mo = 1) Placement - Time  Confirmation - Day of Month  \\\n",
              "0                             5       9:35:46 AM                            9   \n",
              "1                             5      11:16:16 AM                           12   \n",
              "2                             2      12:39:25 PM                           30   \n",
              "3                             5       9:25:34 AM                           15   \n",
              "4                             1       9:55:18 AM                           13   \n",
              "\n",
              "   Confirmation - Weekday (Mo = 1)  ... Arrival at Destination - Time  \\\n",
              "0                                5  ...                   10:39:55 AM   \n",
              "1                                5  ...                   12:17:22 PM   \n",
              "2                                2  ...                    1:00:38 PM   \n",
              "3                                5  ...                   10:05:27 AM   \n",
              "4                                1  ...                   10:25:37 AM   \n",
              "\n",
              "   Distance (KM)  Temperature Precipitation in millimeters  Pickup Lat  \\\n",
              "0              4         20.4                          NaN   -1.317755   \n",
              "1             16         26.4                          NaN   -1.351453   \n",
              "2              3          NaN                          NaN   -1.308284   \n",
              "3              9         19.2                          NaN   -1.281301   \n",
              "4              9         15.4                          NaN   -1.266597   \n",
              "\n",
              "   Pickup Long Destination Lat  Destination Long      Rider Id  \\\n",
              "0    36.830370       -1.300406         36.829741  Rider_Id_432   \n",
              "1    36.899315       -1.295004         36.814358  Rider_Id_856   \n",
              "2    36.843419       -1.300921         36.828195  Rider_Id_155   \n",
              "3    36.832396       -1.257147         36.795063  Rider_Id_855   \n",
              "4    36.792118       -1.295041         36.809817  Rider_Id_770   \n",
              "\n",
              "  Time from Pickup to Arrival  \n",
              "0                         745  \n",
              "1                        1993  \n",
              "2                         455  \n",
              "3                        1341  \n",
              "4                        1214  \n",
              "\n",
              "[5 rows x 29 columns]"
            ],
            "text/html": [
              "\n",
              "  <div id=\"df-579a8120-9ac2-4091-8556-1cf70cfa6e64\">\n",
              "    <div class=\"colab-df-container\">\n",
              "      <div>\n",
              "<style scoped>\n",
              "    .dataframe tbody tr th:only-of-type {\n",
              "        vertical-align: middle;\n",
              "    }\n",
              "\n",
              "    .dataframe tbody tr th {\n",
              "        vertical-align: top;\n",
              "    }\n",
              "\n",
              "    .dataframe thead th {\n",
              "        text-align: right;\n",
              "    }\n",
              "</style>\n",
              "<table border=\"1\" class=\"dataframe\">\n",
              "  <thead>\n",
              "    <tr style=\"text-align: right;\">\n",
              "      <th></th>\n",
              "      <th>Order No</th>\n",
              "      <th>User Id</th>\n",
              "      <th>Vehicle Type</th>\n",
              "      <th>Platform Type</th>\n",
              "      <th>Personal or Business</th>\n",
              "      <th>Placement - Day of Month</th>\n",
              "      <th>Placement - Weekday (Mo = 1)</th>\n",
              "      <th>Placement - Time</th>\n",
              "      <th>Confirmation - Day of Month</th>\n",
              "      <th>Confirmation - Weekday (Mo = 1)</th>\n",
              "      <th>...</th>\n",
              "      <th>Arrival at Destination - Time</th>\n",
              "      <th>Distance (KM)</th>\n",
              "      <th>Temperature</th>\n",
              "      <th>Precipitation in millimeters</th>\n",
              "      <th>Pickup Lat</th>\n",
              "      <th>Pickup Long</th>\n",
              "      <th>Destination Lat</th>\n",
              "      <th>Destination Long</th>\n",
              "      <th>Rider Id</th>\n",
              "      <th>Time from Pickup to Arrival</th>\n",
              "    </tr>\n",
              "  </thead>\n",
              "  <tbody>\n",
              "    <tr>\n",
              "      <th>0</th>\n",
              "      <td>Order_No_4211</td>\n",
              "      <td>User_Id_633</td>\n",
              "      <td>Bike</td>\n",
              "      <td>3</td>\n",
              "      <td>Business</td>\n",
              "      <td>9</td>\n",
              "      <td>5</td>\n",
              "      <td>9:35:46 AM</td>\n",
              "      <td>9</td>\n",
              "      <td>5</td>\n",
              "      <td>...</td>\n",
              "      <td>10:39:55 AM</td>\n",
              "      <td>4</td>\n",
              "      <td>20.4</td>\n",
              "      <td>NaN</td>\n",
              "      <td>-1.317755</td>\n",
              "      <td>36.830370</td>\n",
              "      <td>-1.300406</td>\n",
              "      <td>36.829741</td>\n",
              "      <td>Rider_Id_432</td>\n",
              "      <td>745</td>\n",
              "    </tr>\n",
              "    <tr>\n",
              "      <th>1</th>\n",
              "      <td>Order_No_25375</td>\n",
              "      <td>User_Id_2285</td>\n",
              "      <td>Bike</td>\n",
              "      <td>3</td>\n",
              "      <td>Personal</td>\n",
              "      <td>12</td>\n",
              "      <td>5</td>\n",
              "      <td>11:16:16 AM</td>\n",
              "      <td>12</td>\n",
              "      <td>5</td>\n",
              "      <td>...</td>\n",
              "      <td>12:17:22 PM</td>\n",
              "      <td>16</td>\n",
              "      <td>26.4</td>\n",
              "      <td>NaN</td>\n",
              "      <td>-1.351453</td>\n",
              "      <td>36.899315</td>\n",
              "      <td>-1.295004</td>\n",
              "      <td>36.814358</td>\n",
              "      <td>Rider_Id_856</td>\n",
              "      <td>1993</td>\n",
              "    </tr>\n",
              "    <tr>\n",
              "      <th>2</th>\n",
              "      <td>Order_No_1899</td>\n",
              "      <td>User_Id_265</td>\n",
              "      <td>Bike</td>\n",
              "      <td>3</td>\n",
              "      <td>Business</td>\n",
              "      <td>30</td>\n",
              "      <td>2</td>\n",
              "      <td>12:39:25 PM</td>\n",
              "      <td>30</td>\n",
              "      <td>2</td>\n",
              "      <td>...</td>\n",
              "      <td>1:00:38 PM</td>\n",
              "      <td>3</td>\n",
              "      <td>NaN</td>\n",
              "      <td>NaN</td>\n",
              "      <td>-1.308284</td>\n",
              "      <td>36.843419</td>\n",
              "      <td>-1.300921</td>\n",
              "      <td>36.828195</td>\n",
              "      <td>Rider_Id_155</td>\n",
              "      <td>455</td>\n",
              "    </tr>\n",
              "    <tr>\n",
              "      <th>3</th>\n",
              "      <td>Order_No_9336</td>\n",
              "      <td>User_Id_1402</td>\n",
              "      <td>Bike</td>\n",
              "      <td>3</td>\n",
              "      <td>Business</td>\n",
              "      <td>15</td>\n",
              "      <td>5</td>\n",
              "      <td>9:25:34 AM</td>\n",
              "      <td>15</td>\n",
              "      <td>5</td>\n",
              "      <td>...</td>\n",
              "      <td>10:05:27 AM</td>\n",
              "      <td>9</td>\n",
              "      <td>19.2</td>\n",
              "      <td>NaN</td>\n",
              "      <td>-1.281301</td>\n",
              "      <td>36.832396</td>\n",
              "      <td>-1.257147</td>\n",
              "      <td>36.795063</td>\n",
              "      <td>Rider_Id_855</td>\n",
              "      <td>1341</td>\n",
              "    </tr>\n",
              "    <tr>\n",
              "      <th>4</th>\n",
              "      <td>Order_No_27883</td>\n",
              "      <td>User_Id_1737</td>\n",
              "      <td>Bike</td>\n",
              "      <td>1</td>\n",
              "      <td>Personal</td>\n",
              "      <td>13</td>\n",
              "      <td>1</td>\n",
              "      <td>9:55:18 AM</td>\n",
              "      <td>13</td>\n",
              "      <td>1</td>\n",
              "      <td>...</td>\n",
              "      <td>10:25:37 AM</td>\n",
              "      <td>9</td>\n",
              "      <td>15.4</td>\n",
              "      <td>NaN</td>\n",
              "      <td>-1.266597</td>\n",
              "      <td>36.792118</td>\n",
              "      <td>-1.295041</td>\n",
              "      <td>36.809817</td>\n",
              "      <td>Rider_Id_770</td>\n",
              "      <td>1214</td>\n",
              "    </tr>\n",
              "  </tbody>\n",
              "</table>\n",
              "<p>5 rows × 29 columns</p>\n",
              "</div>\n",
              "      <button class=\"colab-df-convert\" onclick=\"convertToInteractive('df-579a8120-9ac2-4091-8556-1cf70cfa6e64')\"\n",
              "              title=\"Convert this dataframe to an interactive table.\"\n",
              "              style=\"display:none;\">\n",
              "        \n",
              "  <svg xmlns=\"http://www.w3.org/2000/svg\" height=\"24px\"viewBox=\"0 0 24 24\"\n",
              "       width=\"24px\">\n",
              "    <path d=\"M0 0h24v24H0V0z\" fill=\"none\"/>\n",
              "    <path d=\"M18.56 5.44l.94 2.06.94-2.06 2.06-.94-2.06-.94-.94-2.06-.94 2.06-2.06.94zm-11 1L8.5 8.5l.94-2.06 2.06-.94-2.06-.94L8.5 2.5l-.94 2.06-2.06.94zm10 10l.94 2.06.94-2.06 2.06-.94-2.06-.94-.94-2.06-.94 2.06-2.06.94z\"/><path d=\"M17.41 7.96l-1.37-1.37c-.4-.4-.92-.59-1.43-.59-.52 0-1.04.2-1.43.59L10.3 9.45l-7.72 7.72c-.78.78-.78 2.05 0 2.83L4 21.41c.39.39.9.59 1.41.59.51 0 1.02-.2 1.41-.59l7.78-7.78 2.81-2.81c.8-.78.8-2.07 0-2.86zM5.41 20L4 18.59l7.72-7.72 1.47 1.35L5.41 20z\"/>\n",
              "  </svg>\n",
              "      </button>\n",
              "      \n",
              "  <style>\n",
              "    .colab-df-container {\n",
              "      display:flex;\n",
              "      flex-wrap:wrap;\n",
              "      gap: 12px;\n",
              "    }\n",
              "\n",
              "    .colab-df-convert {\n",
              "      background-color: #E8F0FE;\n",
              "      border: none;\n",
              "      border-radius: 50%;\n",
              "      cursor: pointer;\n",
              "      display: none;\n",
              "      fill: #1967D2;\n",
              "      height: 32px;\n",
              "      padding: 0 0 0 0;\n",
              "      width: 32px;\n",
              "    }\n",
              "\n",
              "    .colab-df-convert:hover {\n",
              "      background-color: #E2EBFA;\n",
              "      box-shadow: 0px 1px 2px rgba(60, 64, 67, 0.3), 0px 1px 3px 1px rgba(60, 64, 67, 0.15);\n",
              "      fill: #174EA6;\n",
              "    }\n",
              "\n",
              "    [theme=dark] .colab-df-convert {\n",
              "      background-color: #3B4455;\n",
              "      fill: #D2E3FC;\n",
              "    }\n",
              "\n",
              "    [theme=dark] .colab-df-convert:hover {\n",
              "      background-color: #434B5C;\n",
              "      box-shadow: 0px 1px 3px 1px rgba(0, 0, 0, 0.15);\n",
              "      filter: drop-shadow(0px 1px 2px rgba(0, 0, 0, 0.3));\n",
              "      fill: #FFFFFF;\n",
              "    }\n",
              "  </style>\n",
              "\n",
              "      <script>\n",
              "        const buttonEl =\n",
              "          document.querySelector('#df-579a8120-9ac2-4091-8556-1cf70cfa6e64 button.colab-df-convert');\n",
              "        buttonEl.style.display =\n",
              "          google.colab.kernel.accessAllowed ? 'block' : 'none';\n",
              "\n",
              "        async function convertToInteractive(key) {\n",
              "          const element = document.querySelector('#df-579a8120-9ac2-4091-8556-1cf70cfa6e64');\n",
              "          const dataTable =\n",
              "            await google.colab.kernel.invokeFunction('convertToInteractive',\n",
              "                                                     [key], {});\n",
              "          if (!dataTable) return;\n",
              "\n",
              "          const docLinkHtml = 'Like what you see? Visit the ' +\n",
              "            '<a target=\"_blank\" href=https://colab.research.google.com/notebooks/data_table.ipynb>data table notebook</a>'\n",
              "            + ' to learn more about interactive tables.';\n",
              "          element.innerHTML = '';\n",
              "          dataTable['output_type'] = 'display_data';\n",
              "          await google.colab.output.renderOutput(dataTable, element);\n",
              "          const docLink = document.createElement('div');\n",
              "          docLink.innerHTML = docLinkHtml;\n",
              "          element.appendChild(docLink);\n",
              "        }\n",
              "      </script>\n",
              "    </div>\n",
              "  </div>\n",
              "  "
            ]
          },
          "metadata": {},
          "execution_count": 98
        }
      ]
    },
    {
      "cell_type": "code",
      "source": [
        "# Check shape of the data\n",
        "\n",
        "sendy.shape"
      ],
      "metadata": {
        "colab": {
          "base_uri": "https://localhost:8080/"
        },
        "id": "z83Wcxh8V74N",
        "outputId": "ea6fa388-c1e9-40b8-9771-1a9142c13650"
      },
      "execution_count": 99,
      "outputs": [
        {
          "output_type": "execute_result",
          "data": {
            "text/plain": [
              "(21201, 29)"
            ]
          },
          "metadata": {},
          "execution_count": 99
        }
      ]
    },
    {
      "cell_type": "code",
      "source": [
        "# Describe the dataset\n",
        "\n",
        "sendy.describe()"
      ],
      "metadata": {
        "colab": {
          "base_uri": "https://localhost:8080/",
          "height": 416
        },
        "id": "Oz2jkVI0WHDg",
        "outputId": "f1ef580d-c559-4a76-b5e9-ffc55fafd9f9"
      },
      "execution_count": 100,
      "outputs": [
        {
          "output_type": "execute_result",
          "data": {
            "text/plain": [
              "       Platform Type  Placement - Day of Month  Placement - Weekday (Mo = 1)  \\\n",
              "count   21201.000000              21201.000000                  21201.000000   \n",
              "mean        2.752182                 15.653696                      3.240083   \n",
              "std         0.625178                  8.798916                      1.567295   \n",
              "min         1.000000                  1.000000                      1.000000   \n",
              "25%         3.000000                  8.000000                      2.000000   \n",
              "50%         3.000000                 15.000000                      3.000000   \n",
              "75%         3.000000                 23.000000                      5.000000   \n",
              "max         4.000000                 31.000000                      7.000000   \n",
              "\n",
              "       Confirmation - Day of Month  Confirmation - Weekday (Mo = 1)  \\\n",
              "count                 21201.000000                     21201.000000   \n",
              "mean                     15.653837                         3.240225   \n",
              "std                       8.798886                         1.567228   \n",
              "min                       1.000000                         1.000000   \n",
              "25%                       8.000000                         2.000000   \n",
              "50%                      15.000000                         3.000000   \n",
              "75%                      23.000000                         5.000000   \n",
              "max                      31.000000                         7.000000   \n",
              "\n",
              "       Arrival at Pickup - Day of Month  Arrival at Pickup - Weekday (Mo = 1)  \\\n",
              "count                      21201.000000                          21201.000000   \n",
              "mean                          15.653837                              3.240225   \n",
              "std                            8.798886                              1.567228   \n",
              "min                            1.000000                              1.000000   \n",
              "25%                            8.000000                              2.000000   \n",
              "50%                           15.000000                              3.000000   \n",
              "75%                           23.000000                              5.000000   \n",
              "max                           31.000000                              7.000000   \n",
              "\n",
              "       Pickup - Day of Month  Pickup - Weekday (Mo = 1)  \\\n",
              "count           21201.000000               21201.000000   \n",
              "mean               15.653837                   3.240225   \n",
              "std                 8.798886                   1.567228   \n",
              "min                 1.000000                   1.000000   \n",
              "25%                 8.000000                   2.000000   \n",
              "50%                15.000000                   3.000000   \n",
              "75%                23.000000                   5.000000   \n",
              "max                31.000000                   7.000000   \n",
              "\n",
              "       Arrival at Destination - Day of Month  \\\n",
              "count                           21201.000000   \n",
              "mean                               15.653837   \n",
              "std                                 8.798886   \n",
              "min                                 1.000000   \n",
              "25%                                 8.000000   \n",
              "50%                                15.000000   \n",
              "75%                                23.000000   \n",
              "max                                31.000000   \n",
              "\n",
              "       Arrival at Destination - Weekday (Mo = 1)  Distance (KM)   Temperature  \\\n",
              "count                               21201.000000   21201.000000  16835.000000   \n",
              "mean                                    3.240225       9.506533     23.258889   \n",
              "std                                     1.567228       5.668963      3.615768   \n",
              "min                                     1.000000       1.000000     11.200000   \n",
              "25%                                     2.000000       5.000000     20.600000   \n",
              "50%                                     3.000000       8.000000     23.500000   \n",
              "75%                                     5.000000      13.000000     26.000000   \n",
              "max                                     7.000000      49.000000     32.100000   \n",
              "\n",
              "       Precipitation in millimeters    Pickup Lat   Pickup Long  \\\n",
              "count                    552.000000  21201.000000  21201.000000   \n",
              "mean                       7.905797     -1.281470     36.811264   \n",
              "std                       17.089971      0.030507      0.037473   \n",
              "min                        0.100000     -1.438302     36.653621   \n",
              "25%                        1.075000     -1.300921     36.784605   \n",
              "50%                        2.900000     -1.279395     36.807040   \n",
              "75%                        4.900000     -1.257147     36.829741   \n",
              "max                       99.100000     -1.147170     36.991046   \n",
              "\n",
              "       Destination Lat  Destination Long  Time from Pickup to Arrival  \n",
              "count     21201.000000      21201.000000                 21201.000000  \n",
              "mean         -1.282581         36.811220                  1556.920947  \n",
              "std           0.034824          0.044721                   987.270788  \n",
              "min          -1.430298         36.606594                     1.000000  \n",
              "25%          -1.301201         36.785661                   882.000000  \n",
              "50%          -1.284382         36.808002                  1369.000000  \n",
              "75%          -1.261177         36.829477                  2040.000000  \n",
              "max          -1.030225         37.016779                  7883.000000  "
            ],
            "text/html": [
              "\n",
              "  <div id=\"df-c6ed153e-eef4-47f6-bedc-c519884d1449\">\n",
              "    <div class=\"colab-df-container\">\n",
              "      <div>\n",
              "<style scoped>\n",
              "    .dataframe tbody tr th:only-of-type {\n",
              "        vertical-align: middle;\n",
              "    }\n",
              "\n",
              "    .dataframe tbody tr th {\n",
              "        vertical-align: top;\n",
              "    }\n",
              "\n",
              "    .dataframe thead th {\n",
              "        text-align: right;\n",
              "    }\n",
              "</style>\n",
              "<table border=\"1\" class=\"dataframe\">\n",
              "  <thead>\n",
              "    <tr style=\"text-align: right;\">\n",
              "      <th></th>\n",
              "      <th>Platform Type</th>\n",
              "      <th>Placement - Day of Month</th>\n",
              "      <th>Placement - Weekday (Mo = 1)</th>\n",
              "      <th>Confirmation - Day of Month</th>\n",
              "      <th>Confirmation - Weekday (Mo = 1)</th>\n",
              "      <th>Arrival at Pickup - Day of Month</th>\n",
              "      <th>Arrival at Pickup - Weekday (Mo = 1)</th>\n",
              "      <th>Pickup - Day of Month</th>\n",
              "      <th>Pickup - Weekday (Mo = 1)</th>\n",
              "      <th>Arrival at Destination - Day of Month</th>\n",
              "      <th>Arrival at Destination - Weekday (Mo = 1)</th>\n",
              "      <th>Distance (KM)</th>\n",
              "      <th>Temperature</th>\n",
              "      <th>Precipitation in millimeters</th>\n",
              "      <th>Pickup Lat</th>\n",
              "      <th>Pickup Long</th>\n",
              "      <th>Destination Lat</th>\n",
              "      <th>Destination Long</th>\n",
              "      <th>Time from Pickup to Arrival</th>\n",
              "    </tr>\n",
              "  </thead>\n",
              "  <tbody>\n",
              "    <tr>\n",
              "      <th>count</th>\n",
              "      <td>21201.000000</td>\n",
              "      <td>21201.000000</td>\n",
              "      <td>21201.000000</td>\n",
              "      <td>21201.000000</td>\n",
              "      <td>21201.000000</td>\n",
              "      <td>21201.000000</td>\n",
              "      <td>21201.000000</td>\n",
              "      <td>21201.000000</td>\n",
              "      <td>21201.000000</td>\n",
              "      <td>21201.000000</td>\n",
              "      <td>21201.000000</td>\n",
              "      <td>21201.000000</td>\n",
              "      <td>16835.000000</td>\n",
              "      <td>552.000000</td>\n",
              "      <td>21201.000000</td>\n",
              "      <td>21201.000000</td>\n",
              "      <td>21201.000000</td>\n",
              "      <td>21201.000000</td>\n",
              "      <td>21201.000000</td>\n",
              "    </tr>\n",
              "    <tr>\n",
              "      <th>mean</th>\n",
              "      <td>2.752182</td>\n",
              "      <td>15.653696</td>\n",
              "      <td>3.240083</td>\n",
              "      <td>15.653837</td>\n",
              "      <td>3.240225</td>\n",
              "      <td>15.653837</td>\n",
              "      <td>3.240225</td>\n",
              "      <td>15.653837</td>\n",
              "      <td>3.240225</td>\n",
              "      <td>15.653837</td>\n",
              "      <td>3.240225</td>\n",
              "      <td>9.506533</td>\n",
              "      <td>23.258889</td>\n",
              "      <td>7.905797</td>\n",
              "      <td>-1.281470</td>\n",
              "      <td>36.811264</td>\n",
              "      <td>-1.282581</td>\n",
              "      <td>36.811220</td>\n",
              "      <td>1556.920947</td>\n",
              "    </tr>\n",
              "    <tr>\n",
              "      <th>std</th>\n",
              "      <td>0.625178</td>\n",
              "      <td>8.798916</td>\n",
              "      <td>1.567295</td>\n",
              "      <td>8.798886</td>\n",
              "      <td>1.567228</td>\n",
              "      <td>8.798886</td>\n",
              "      <td>1.567228</td>\n",
              "      <td>8.798886</td>\n",
              "      <td>1.567228</td>\n",
              "      <td>8.798886</td>\n",
              "      <td>1.567228</td>\n",
              "      <td>5.668963</td>\n",
              "      <td>3.615768</td>\n",
              "      <td>17.089971</td>\n",
              "      <td>0.030507</td>\n",
              "      <td>0.037473</td>\n",
              "      <td>0.034824</td>\n",
              "      <td>0.044721</td>\n",
              "      <td>987.270788</td>\n",
              "    </tr>\n",
              "    <tr>\n",
              "      <th>min</th>\n",
              "      <td>1.000000</td>\n",
              "      <td>1.000000</td>\n",
              "      <td>1.000000</td>\n",
              "      <td>1.000000</td>\n",
              "      <td>1.000000</td>\n",
              "      <td>1.000000</td>\n",
              "      <td>1.000000</td>\n",
              "      <td>1.000000</td>\n",
              "      <td>1.000000</td>\n",
              "      <td>1.000000</td>\n",
              "      <td>1.000000</td>\n",
              "      <td>1.000000</td>\n",
              "      <td>11.200000</td>\n",
              "      <td>0.100000</td>\n",
              "      <td>-1.438302</td>\n",
              "      <td>36.653621</td>\n",
              "      <td>-1.430298</td>\n",
              "      <td>36.606594</td>\n",
              "      <td>1.000000</td>\n",
              "    </tr>\n",
              "    <tr>\n",
              "      <th>25%</th>\n",
              "      <td>3.000000</td>\n",
              "      <td>8.000000</td>\n",
              "      <td>2.000000</td>\n",
              "      <td>8.000000</td>\n",
              "      <td>2.000000</td>\n",
              "      <td>8.000000</td>\n",
              "      <td>2.000000</td>\n",
              "      <td>8.000000</td>\n",
              "      <td>2.000000</td>\n",
              "      <td>8.000000</td>\n",
              "      <td>2.000000</td>\n",
              "      <td>5.000000</td>\n",
              "      <td>20.600000</td>\n",
              "      <td>1.075000</td>\n",
              "      <td>-1.300921</td>\n",
              "      <td>36.784605</td>\n",
              "      <td>-1.301201</td>\n",
              "      <td>36.785661</td>\n",
              "      <td>882.000000</td>\n",
              "    </tr>\n",
              "    <tr>\n",
              "      <th>50%</th>\n",
              "      <td>3.000000</td>\n",
              "      <td>15.000000</td>\n",
              "      <td>3.000000</td>\n",
              "      <td>15.000000</td>\n",
              "      <td>3.000000</td>\n",
              "      <td>15.000000</td>\n",
              "      <td>3.000000</td>\n",
              "      <td>15.000000</td>\n",
              "      <td>3.000000</td>\n",
              "      <td>15.000000</td>\n",
              "      <td>3.000000</td>\n",
              "      <td>8.000000</td>\n",
              "      <td>23.500000</td>\n",
              "      <td>2.900000</td>\n",
              "      <td>-1.279395</td>\n",
              "      <td>36.807040</td>\n",
              "      <td>-1.284382</td>\n",
              "      <td>36.808002</td>\n",
              "      <td>1369.000000</td>\n",
              "    </tr>\n",
              "    <tr>\n",
              "      <th>75%</th>\n",
              "      <td>3.000000</td>\n",
              "      <td>23.000000</td>\n",
              "      <td>5.000000</td>\n",
              "      <td>23.000000</td>\n",
              "      <td>5.000000</td>\n",
              "      <td>23.000000</td>\n",
              "      <td>5.000000</td>\n",
              "      <td>23.000000</td>\n",
              "      <td>5.000000</td>\n",
              "      <td>23.000000</td>\n",
              "      <td>5.000000</td>\n",
              "      <td>13.000000</td>\n",
              "      <td>26.000000</td>\n",
              "      <td>4.900000</td>\n",
              "      <td>-1.257147</td>\n",
              "      <td>36.829741</td>\n",
              "      <td>-1.261177</td>\n",
              "      <td>36.829477</td>\n",
              "      <td>2040.000000</td>\n",
              "    </tr>\n",
              "    <tr>\n",
              "      <th>max</th>\n",
              "      <td>4.000000</td>\n",
              "      <td>31.000000</td>\n",
              "      <td>7.000000</td>\n",
              "      <td>31.000000</td>\n",
              "      <td>7.000000</td>\n",
              "      <td>31.000000</td>\n",
              "      <td>7.000000</td>\n",
              "      <td>31.000000</td>\n",
              "      <td>7.000000</td>\n",
              "      <td>31.000000</td>\n",
              "      <td>7.000000</td>\n",
              "      <td>49.000000</td>\n",
              "      <td>32.100000</td>\n",
              "      <td>99.100000</td>\n",
              "      <td>-1.147170</td>\n",
              "      <td>36.991046</td>\n",
              "      <td>-1.030225</td>\n",
              "      <td>37.016779</td>\n",
              "      <td>7883.000000</td>\n",
              "    </tr>\n",
              "  </tbody>\n",
              "</table>\n",
              "</div>\n",
              "      <button class=\"colab-df-convert\" onclick=\"convertToInteractive('df-c6ed153e-eef4-47f6-bedc-c519884d1449')\"\n",
              "              title=\"Convert this dataframe to an interactive table.\"\n",
              "              style=\"display:none;\">\n",
              "        \n",
              "  <svg xmlns=\"http://www.w3.org/2000/svg\" height=\"24px\"viewBox=\"0 0 24 24\"\n",
              "       width=\"24px\">\n",
              "    <path d=\"M0 0h24v24H0V0z\" fill=\"none\"/>\n",
              "    <path d=\"M18.56 5.44l.94 2.06.94-2.06 2.06-.94-2.06-.94-.94-2.06-.94 2.06-2.06.94zm-11 1L8.5 8.5l.94-2.06 2.06-.94-2.06-.94L8.5 2.5l-.94 2.06-2.06.94zm10 10l.94 2.06.94-2.06 2.06-.94-2.06-.94-.94-2.06-.94 2.06-2.06.94z\"/><path d=\"M17.41 7.96l-1.37-1.37c-.4-.4-.92-.59-1.43-.59-.52 0-1.04.2-1.43.59L10.3 9.45l-7.72 7.72c-.78.78-.78 2.05 0 2.83L4 21.41c.39.39.9.59 1.41.59.51 0 1.02-.2 1.41-.59l7.78-7.78 2.81-2.81c.8-.78.8-2.07 0-2.86zM5.41 20L4 18.59l7.72-7.72 1.47 1.35L5.41 20z\"/>\n",
              "  </svg>\n",
              "      </button>\n",
              "      \n",
              "  <style>\n",
              "    .colab-df-container {\n",
              "      display:flex;\n",
              "      flex-wrap:wrap;\n",
              "      gap: 12px;\n",
              "    }\n",
              "\n",
              "    .colab-df-convert {\n",
              "      background-color: #E8F0FE;\n",
              "      border: none;\n",
              "      border-radius: 50%;\n",
              "      cursor: pointer;\n",
              "      display: none;\n",
              "      fill: #1967D2;\n",
              "      height: 32px;\n",
              "      padding: 0 0 0 0;\n",
              "      width: 32px;\n",
              "    }\n",
              "\n",
              "    .colab-df-convert:hover {\n",
              "      background-color: #E2EBFA;\n",
              "      box-shadow: 0px 1px 2px rgba(60, 64, 67, 0.3), 0px 1px 3px 1px rgba(60, 64, 67, 0.15);\n",
              "      fill: #174EA6;\n",
              "    }\n",
              "\n",
              "    [theme=dark] .colab-df-convert {\n",
              "      background-color: #3B4455;\n",
              "      fill: #D2E3FC;\n",
              "    }\n",
              "\n",
              "    [theme=dark] .colab-df-convert:hover {\n",
              "      background-color: #434B5C;\n",
              "      box-shadow: 0px 1px 3px 1px rgba(0, 0, 0, 0.15);\n",
              "      filter: drop-shadow(0px 1px 2px rgba(0, 0, 0, 0.3));\n",
              "      fill: #FFFFFF;\n",
              "    }\n",
              "  </style>\n",
              "\n",
              "      <script>\n",
              "        const buttonEl =\n",
              "          document.querySelector('#df-c6ed153e-eef4-47f6-bedc-c519884d1449 button.colab-df-convert');\n",
              "        buttonEl.style.display =\n",
              "          google.colab.kernel.accessAllowed ? 'block' : 'none';\n",
              "\n",
              "        async function convertToInteractive(key) {\n",
              "          const element = document.querySelector('#df-c6ed153e-eef4-47f6-bedc-c519884d1449');\n",
              "          const dataTable =\n",
              "            await google.colab.kernel.invokeFunction('convertToInteractive',\n",
              "                                                     [key], {});\n",
              "          if (!dataTable) return;\n",
              "\n",
              "          const docLinkHtml = 'Like what you see? Visit the ' +\n",
              "            '<a target=\"_blank\" href=https://colab.research.google.com/notebooks/data_table.ipynb>data table notebook</a>'\n",
              "            + ' to learn more about interactive tables.';\n",
              "          element.innerHTML = '';\n",
              "          dataTable['output_type'] = 'display_data';\n",
              "          await google.colab.output.renderOutput(dataTable, element);\n",
              "          const docLink = document.createElement('div');\n",
              "          docLink.innerHTML = docLinkHtml;\n",
              "          element.appendChild(docLink);\n",
              "        }\n",
              "      </script>\n",
              "    </div>\n",
              "  </div>\n",
              "  "
            ]
          },
          "metadata": {},
          "execution_count": 100
        }
      ]
    },
    {
      "cell_type": "code",
      "source": [
        "# Check for missing values\n",
        "\n",
        "sendy.isnull().sum()"
      ],
      "metadata": {
        "colab": {
          "base_uri": "https://localhost:8080/"
        },
        "id": "SIblRU79WQQU",
        "outputId": "e19c83cb-e85f-4c64-a714-8ed2863061ab"
      },
      "execution_count": 101,
      "outputs": [
        {
          "output_type": "execute_result",
          "data": {
            "text/plain": [
              "Order No                                         0\n",
              "User Id                                          0\n",
              "Vehicle Type                                     0\n",
              "Platform Type                                    0\n",
              "Personal or Business                             0\n",
              "Placement - Day of Month                         0\n",
              "Placement - Weekday (Mo = 1)                     0\n",
              "Placement - Time                                 0\n",
              "Confirmation - Day of Month                      0\n",
              "Confirmation - Weekday (Mo = 1)                  0\n",
              "Confirmation - Time                              0\n",
              "Arrival at Pickup - Day of Month                 0\n",
              "Arrival at Pickup - Weekday (Mo = 1)             0\n",
              "Arrival at Pickup - Time                         0\n",
              "Pickup - Day of Month                            0\n",
              "Pickup - Weekday (Mo = 1)                        0\n",
              "Pickup - Time                                    0\n",
              "Arrival at Destination - Day of Month            0\n",
              "Arrival at Destination - Weekday (Mo = 1)        0\n",
              "Arrival at Destination - Time                    0\n",
              "Distance (KM)                                    0\n",
              "Temperature                                   4366\n",
              "Precipitation in millimeters                 20649\n",
              "Pickup Lat                                       0\n",
              "Pickup Long                                      0\n",
              "Destination Lat                                  0\n",
              "Destination Long                                 0\n",
              "Rider Id                                         0\n",
              "Time from Pickup to Arrival                      0\n",
              "dtype: int64"
            ]
          },
          "metadata": {},
          "execution_count": 101
        }
      ]
    },
    {
      "cell_type": "code",
      "source": [
        "# Drop Precipitation in millimeters column that is missing most values\n",
        "# Replace missing values in temperature column with a mean of the temperatures\n",
        "\n",
        "sendy = sendy.drop('Precipitation in millimeters', axis =1)\n",
        "sendy[\"Temperature\"].fillna(sendy[\"Temperature\"].mean(), inplace = True)\n",
        "\n",
        "# Recheck for missing values\n",
        "\n",
        "sendy.isnull().sum()"
      ],
      "metadata": {
        "id": "Exn6sOEIWfRU",
        "colab": {
          "base_uri": "https://localhost:8080/"
        },
        "outputId": "d45554ca-9d86-45c8-c9c7-4cd00c83e6eb"
      },
      "execution_count": 102,
      "outputs": [
        {
          "output_type": "execute_result",
          "data": {
            "text/plain": [
              "Order No                                     0\n",
              "User Id                                      0\n",
              "Vehicle Type                                 0\n",
              "Platform Type                                0\n",
              "Personal or Business                         0\n",
              "Placement - Day of Month                     0\n",
              "Placement - Weekday (Mo = 1)                 0\n",
              "Placement - Time                             0\n",
              "Confirmation - Day of Month                  0\n",
              "Confirmation - Weekday (Mo = 1)              0\n",
              "Confirmation - Time                          0\n",
              "Arrival at Pickup - Day of Month             0\n",
              "Arrival at Pickup - Weekday (Mo = 1)         0\n",
              "Arrival at Pickup - Time                     0\n",
              "Pickup - Day of Month                        0\n",
              "Pickup - Weekday (Mo = 1)                    0\n",
              "Pickup - Time                                0\n",
              "Arrival at Destination - Day of Month        0\n",
              "Arrival at Destination - Weekday (Mo = 1)    0\n",
              "Arrival at Destination - Time                0\n",
              "Distance (KM)                                0\n",
              "Temperature                                  0\n",
              "Pickup Lat                                   0\n",
              "Pickup Long                                  0\n",
              "Destination Lat                              0\n",
              "Destination Long                             0\n",
              "Rider Id                                     0\n",
              "Time from Pickup to Arrival                  0\n",
              "dtype: int64"
            ]
          },
          "metadata": {},
          "execution_count": 102
        }
      ]
    },
    {
      "cell_type": "code",
      "source": [
        "# Check for duplicates\n",
        "\n",
        "sendy.duplicated().sum()"
      ],
      "metadata": {
        "colab": {
          "base_uri": "https://localhost:8080/"
        },
        "id": "PZx10CHsro-7",
        "outputId": "424bcc22-ebce-4fc6-de95-e284df4bd180"
      },
      "execution_count": 103,
      "outputs": [
        {
          "output_type": "execute_result",
          "data": {
            "text/plain": [
              "0"
            ]
          },
          "metadata": {},
          "execution_count": 103
        }
      ]
    },
    {
      "cell_type": "code",
      "source": [
        "# Find and drop outliers using the interquartile range (IQR)\n",
        "\n",
        "Q1 = sendy.quantile(0.25)\n",
        "Q3 = sendy.quantile(0.75)\n",
        "IQR = Q3 - Q1\n",
        "IQR\n",
        "\n",
        "sendy_clean = sendy[~((sendy< (Q1 - 1.5 * IQR)) | (sendy > (Q3 + 1.5 * IQR))).any(axis=1)]\n",
        "\n",
        "sendy_clean.shape"
      ],
      "metadata": {
        "colab": {
          "base_uri": "https://localhost:8080/"
        },
        "id": "gYzZ70wh3Yht",
        "outputId": "b8f37471-96a3-463a-c207-61bab2d059d2"
      },
      "execution_count": 104,
      "outputs": [
        {
          "output_type": "stream",
          "name": "stderr",
          "text": [
            "/usr/local/lib/python3.7/dist-packages/ipykernel_launcher.py:8: FutureWarning: Automatic reindexing on DataFrame vs Series comparisons is deprecated and will raise ValueError in a future version.  Do `left, right = left.align(right, axis=1, copy=False)` before e.g. `left == right`\n",
            "  \n"
          ]
        },
        {
          "output_type": "execute_result",
          "data": {
            "text/plain": [
              "(14730, 28)"
            ]
          },
          "metadata": {},
          "execution_count": 104
        }
      ]
    },
    {
      "cell_type": "markdown",
      "source": [
        "## 4. Feature preparation and spliting the data"
      ],
      "metadata": {
        "id": "Cm2FHq4x7Shs"
      }
    },
    {
      "cell_type": "code",
      "source": [
        "# Define features to use\n",
        "\n",
        "features = sendy_clean[['Distance (KM)', 'Pickup Lat', 'Pickup Long', 'Destination Lat', 'Destination Long', 'Time from Pickup to Arrival']]\n",
        "target = sendy_clean['Time from Pickup to Arrival']\n",
        "\n",
        "# Split the data into training and test sets\n",
        "\n",
        "features_train, features_test, target_train, target_test = train_test_split(\n",
        "    features, target, test_size=0.3, random_state=45\n",
        ")"
      ],
      "metadata": {
        "id": "6poGP6_37ZGb"
      },
      "execution_count": 105,
      "outputs": []
    },
    {
      "cell_type": "markdown",
      "source": [
        "## 5. Feature scaling "
      ],
      "metadata": {
        "id": "42MDh3y39-om"
      }
    },
    {
      "cell_type": "markdown",
      "source": [
        "### Check model without any scaling"
      ],
      "metadata": {
        "id": "qPMM7tSCOFIE"
      }
    },
    {
      "cell_type": "code",
      "source": [
        "# First we check for modeling without without normalisation and standardisation\n",
        "\n",
        "# Fitting the model\n",
        "\n",
        "svm_regressor = SVR(kernel='rbf', C=10)\n",
        "knn_regressor = KNeighborsRegressor()\n",
        "dec_regressor = DecisionTreeRegressor(random_state=27)\n",
        "\n",
        "svm_regressor.fit(features_train, target_train)\n",
        "knn_regressor.fit(features_train, target_train)\n",
        "dec_regressor.fit(features_train, target_train)\n",
        "\n",
        "# Make Predictions  \n",
        "svm_target_pred = svm_regressor.predict(features_test)\n",
        "knn_target_pred = knn_regressor.predict(features_test)\n",
        "dec_target_pred = dec_regressor.predict(features_test)\n",
        "\n",
        "# Finally, we evaluatethe model \n",
        "\n",
        "print('SVM RMSE:', np.sqrt(metrics.mean_squared_error(target_test, svm_target_pred)))\n",
        "print('KNN RMSE:', np.sqrt(metrics.mean_squared_error(target_test, knn_target_pred)))\n",
        "print('Decision Tree RMSE:', np.sqrt(metrics.mean_squared_error(target_test, dec_target_pred)))"
      ],
      "metadata": {
        "colab": {
          "base_uri": "https://localhost:8080/"
        },
        "id": "QvDmel1y6vkU",
        "outputId": "17d94dc9-60a0-4c19-8833-4c4692bd61a7"
      },
      "execution_count": 106,
      "outputs": [
        {
          "output_type": "stream",
          "name": "stdout",
          "text": [
            "SVM RMSE: 29.565333421236268\n",
            "KNN RMSE: 0.8457553455630903\n",
            "Decision Tree RMSE: 0.9134285211620193\n"
          ]
        }
      ]
    },
    {
      "cell_type": "markdown",
      "source": [
        "### Normalization"
      ],
      "metadata": {
        "id": "qxJrhaeCOOmV"
      }
    },
    {
      "cell_type": "code",
      "source": [
        "# Performing normalisation \n",
        "\n",
        "norm = MinMaxScaler().fit(features_train) \n",
        "features_train = norm.transform(features_train) \n",
        "features_test = norm.transform(features_test)\n",
        "\n",
        "# Fitting the model\n",
        "\n",
        "svm_regressor = SVR(kernel='rbf', C=10)\n",
        "knn_regressor = KNeighborsRegressor()\n",
        "dec_regressor = DecisionTreeRegressor(random_state=27)\n",
        "\n",
        "svm_regressor.fit(features_train, target_train)\n",
        "knn_regressor.fit(features_train, target_train)\n",
        "dec_regressor.fit(features_train, target_train)\n",
        "\n",
        "# Make Predictions  \n",
        "svm_target_pred = svm_regressor.predict(features_test)\n",
        "knn_target_pred = knn_regressor.predict(features_test)\n",
        "dec_target_pred = dec_regressor.predict(features_test)\n",
        "\n",
        "# Finally, we evaluatethe model \n",
        "\n",
        "print('SVM RMSE:', np.sqrt(metrics.mean_squared_error(target_test, svm_target_pred)))\n",
        "print('KNN RMSE:', np.sqrt(metrics.mean_squared_error(target_test, knn_target_pred)))\n",
        "print('Decision Tree RMSE:', np.sqrt(metrics.mean_squared_error(target_test, dec_target_pred)))"
      ],
      "metadata": {
        "colab": {
          "base_uri": "https://localhost:8080/"
        },
        "id": "wBLM6sHLAOWM",
        "outputId": "71eabe69-0098-4ec6-a8ef-c5c77701e502"
      },
      "execution_count": 107,
      "outputs": [
        {
          "output_type": "stream",
          "name": "stdout",
          "text": [
            "SVM RMSE: 148.01541465119323\n",
            "KNN RMSE: 95.4126782073876\n",
            "Decision Tree RMSE: 0.9129329006582698\n"
          ]
        }
      ]
    },
    {
      "cell_type": "markdown",
      "source": [
        "### Standardization"
      ],
      "metadata": {
        "id": "-uUZ9tQEOTv9"
      }
    },
    {
      "cell_type": "code",
      "source": [
        "# Performing standardisation\n",
        "\n",
        "sc = StandardScaler() \n",
        "features_train = sc.fit_transform(features_train)\n",
        "features_test = sc.fit_transform(features_test)\n",
        "\n",
        "# Fitting the model\n",
        "\n",
        "svm_regressor = SVR(kernel='rbf', C=10)\n",
        "knn_regressor = KNeighborsRegressor()\n",
        "dec_regressor = DecisionTreeRegressor(random_state=27)\n",
        "\n",
        "svm_regressor.fit(features_train, target_train)\n",
        "knn_regressor.fit(features_train, target_train)\n",
        "dec_regressor.fit(features_train, target_train)\n",
        "\n",
        "# Make Predictions  \n",
        "svm_target_pred = svm_regressor.predict(features_test)\n",
        "knn_target_pred = knn_regressor.predict(features_test)\n",
        "dec_target_pred = dec_regressor.predict(features_test)\n",
        "\n",
        "# Finally, we evaluatethe model \n",
        "\n",
        "print('SVM RMSE:', np.sqrt(metrics.mean_squared_error(target_test, svm_target_pred)))\n",
        "print('KNN RMSE:', np.sqrt(metrics.mean_squared_error(target_test, knn_target_pred)))\n",
        "print('Decision Tree RMSE:', np.sqrt(metrics.mean_squared_error(target_test, dec_target_pred)))"
      ],
      "metadata": {
        "colab": {
          "base_uri": "https://localhost:8080/"
        },
        "id": "OtogcMQlCELs",
        "outputId": "8af179d7-6729-47d2-9bc0-31948858dd56"
      },
      "execution_count": 108,
      "outputs": [
        {
          "output_type": "stream",
          "name": "stdout",
          "text": [
            "SVM RMSE: 182.2590081878989\n",
            "KNN RMSE: 114.16117150713866\n",
            "Decision Tree RMSE: 18.700483382812557\n"
          ]
        }
      ]
    },
    {
      "cell_type": "markdown",
      "source": [
        "## 6. Feature Selection:"
      ],
      "metadata": {
        "id": "_nlTan5XOlJ2"
      }
    },
    {
      "cell_type": "markdown",
      "source": [
        "### Feature Transformation: Principal Component Analysis"
      ],
      "metadata": {
        "id": "UC2_NRghDwfQ"
      }
    },
    {
      "cell_type": "code",
      "source": [
        "# Performing normalisation \n",
        "\n",
        "norm = MinMaxScaler().fit(features_train) \n",
        "features_train = norm.transform(features_train) \n",
        "features_test = norm.transform(features_test)\n",
        "\n",
        "# Applying PCA\n",
        " \n",
        "pca = PCA()\n",
        "features_train = pca.fit_transform(features_train)\n",
        "features_test = pca.transform(features_test)\n",
        "\n",
        "# Fitting the model\n",
        "\n",
        "svm_regressor = SVR(kernel='rbf', C=10)\n",
        "knn_regressor = KNeighborsRegressor()\n",
        "dec_regressor = DecisionTreeRegressor(random_state=27)\n",
        "\n",
        "svm_regressor.fit(features_train, target_train)\n",
        "knn_regressor.fit(features_train, target_train)\n",
        "dec_regressor.fit(features_train, target_train)\n",
        "\n",
        "# Make Predictions  \n",
        "svm_target_pred = svm_regressor.predict(features_test)\n",
        "knn_target_pred = knn_regressor.predict(features_test)\n",
        "dec_target_pred = dec_regressor.predict(features_test)\n",
        "\n",
        "# Finally, we evaluatethe model \n",
        "\n",
        "print('SVM RMSE:', np.sqrt(metrics.mean_squared_error(target_test, svm_target_pred)))\n",
        "print('KNN RMSE:', np.sqrt(metrics.mean_squared_error(target_test, knn_target_pred)))\n",
        "print('Decision Tree RMSE:', np.sqrt(metrics.mean_squared_error(target_test, dec_target_pred)))\n"
      ],
      "metadata": {
        "colab": {
          "base_uri": "https://localhost:8080/"
        },
        "id": "B_YKfeILDjls",
        "outputId": "60009d24-0d44-407b-d716-4f8680430ee1"
      },
      "execution_count": 109,
      "outputs": [
        {
          "output_type": "stream",
          "name": "stdout",
          "text": [
            "SVM RMSE: 173.78867759253905\n",
            "KNN RMSE: 93.89825412209801\n",
            "Decision Tree RMSE: 84.67214569246815\n"
          ]
        }
      ]
    },
    {
      "cell_type": "markdown",
      "source": [
        "### Feature Transformation: Linear Discriminant Analysis"
      ],
      "metadata": {
        "id": "vLKQwJyZIr-V"
      }
    },
    {
      "cell_type": "code",
      "source": [
        "# Performing normalisation \n",
        "\n",
        "norm = MinMaxScaler().fit(features_train) \n",
        "features_train = norm.transform(features_train) \n",
        "features_test = norm.transform(features_test)\n",
        "\n",
        "# Applying LDA\n",
        "\n",
        "lda = LinearDiscriminantAnalysis()\n",
        "features_train = lda.fit_transform(features_train, target_train)\n",
        "features_test = lda.transform(features_test)\n",
        "\n",
        "# Fitting the model\n",
        "\n",
        "svm_regressor = SVR(kernel='rbf', C=10)\n",
        "knn_regressor = KNeighborsRegressor()\n",
        "dec_regressor = DecisionTreeRegressor(random_state=27)\n",
        "\n",
        "svm_regressor.fit(features_train, target_train)\n",
        "knn_regressor.fit(features_train, target_train)\n",
        "dec_regressor.fit(features_train, target_train)\n",
        "\n",
        "# Make Predictions  \n",
        "svm_target_pred = svm_regressor.predict(features_test)\n",
        "knn_target_pred = knn_regressor.predict(features_test)\n",
        "dec_target_pred = dec_regressor.predict(features_test)\n",
        "\n",
        "# Finally, we evaluatethe model \n",
        "\n",
        "print('SVM RMSE:', np.sqrt(metrics.mean_squared_error(target_test, svm_target_pred)))\n",
        "print('KNN RMSE:', np.sqrt(metrics.mean_squared_error(target_test, knn_target_pred)))\n",
        "print('Decision Tree RMSE:', np.sqrt(metrics.mean_squared_error(target_test, dec_target_pred)))\n"
      ],
      "metadata": {
        "colab": {
          "base_uri": "https://localhost:8080/"
        },
        "id": "yW1nhC6TGdKl",
        "outputId": "924a82f5-dad7-443b-ccb6-e05c53982a04"
      },
      "execution_count": 110,
      "outputs": [
        {
          "output_type": "stream",
          "name": "stdout",
          "text": [
            "SVM RMSE: 498.0547484868409\n",
            "KNN RMSE: 356.52544575897605\n",
            "Decision Tree RMSE: 517.6005518705264\n"
          ]
        }
      ]
    },
    {
      "cell_type": "markdown",
      "source": [
        "### Wrapper Method: Step Forward Feature Selection"
      ],
      "metadata": {
        "id": "LqJeC3dOKl0d"
      }
    },
    {
      "cell_type": "code",
      "source": [
        "# We'll need import and install the following packages: six, sys, mlrose and joblib\n",
        "# to use `SequentialFeatureSelector` for feature selection from mlxtend.\n",
        "\n",
        "# importing six and sys\n",
        "import six\n",
        "import sys\n",
        "sys.modules['sklearn.externals.six'] = six\n",
        "\n",
        "# installing mlrose\n",
        "!pip install mlrose\n",
        "import mlrose\n",
        "\n",
        "# importing joblib\n",
        "import joblib\n",
        "sys.modules['sklearn.externals.joblib'] = joblib"
      ],
      "metadata": {
        "colab": {
          "base_uri": "https://localhost:8080/"
        },
        "id": "5Ovu9aycKqXN",
        "outputId": "f6fd7ccc-0b90-415c-c27d-8507ea38baea"
      },
      "execution_count": 111,
      "outputs": [
        {
          "output_type": "stream",
          "name": "stdout",
          "text": [
            "Looking in indexes: https://pypi.org/simple, https://us-python.pkg.dev/colab-wheels/public/simple/\n",
            "Requirement already satisfied: mlrose in /usr/local/lib/python3.7/dist-packages (1.3.0)\n",
            "Requirement already satisfied: sklearn in /usr/local/lib/python3.7/dist-packages (from mlrose) (0.0.post1)\n",
            "Requirement already satisfied: scipy in /usr/local/lib/python3.7/dist-packages (from mlrose) (1.7.3)\n",
            "Requirement already satisfied: numpy in /usr/local/lib/python3.7/dist-packages (from mlrose) (1.21.6)\n"
          ]
        }
      ]
    },
    {
      "cell_type": "code",
      "source": [
        "# First, we then perform modeling with both standardisation and normalisation.\n",
        "\n",
        "# Performing normalisation \n",
        "norm = MinMaxScaler().fit(features_train) \n",
        "features_train = norm.transform(features_train) \n",
        "features_test = norm.transform(features_test)\n",
        "\n",
        "# Selecting the ML algorithm to use   \n",
        "dec_regressor = DecisionTreeRegressor(random_state=27)\n",
        "\n",
        "from mlxtend.feature_selection import SequentialFeatureSelector\n",
        "feature_selector = SequentialFeatureSelector(dec_regressor,\n",
        "           k_features=4,\n",
        "           forward=True,\n",
        "           verbose=2,\n",
        "           scoring='r2',\n",
        "           cv=4)\n",
        " \n",
        "# Perform step forward feature selection\n",
        "feature_selector = feature_selector.fit(features_train, target_train) "
      ],
      "metadata": {
        "colab": {
          "base_uri": "https://localhost:8080/"
        },
        "id": "1hbWxI_JLJCf",
        "outputId": "69e6b125-c34a-46dd-ab4d-ca5a8ea36412"
      },
      "execution_count": 112,
      "outputs": [
        {
          "output_type": "stream",
          "name": "stderr",
          "text": [
            "[Parallel(n_jobs=1)]: Using backend SequentialBackend with 1 concurrent workers.\n",
            "[Parallel(n_jobs=1)]: Done   1 out of   1 | elapsed:    0.1s remaining:    0.0s\n",
            "[Parallel(n_jobs=1)]: Done   5 out of   5 | elapsed:    0.4s finished\n",
            "\n",
            "[2022-11-25 19:22:00] Features: 1/4 -- score: 0.057473947347903426[Parallel(n_jobs=1)]: Using backend SequentialBackend with 1 concurrent workers.\n",
            "[Parallel(n_jobs=1)]: Done   1 out of   1 | elapsed:    0.1s remaining:    0.0s\n",
            "[Parallel(n_jobs=1)]: Done   4 out of   4 | elapsed:    0.5s finished\n",
            "\n",
            "[2022-11-25 19:22:00] Features: 2/4 -- score: 0.21690937677937092[Parallel(n_jobs=1)]: Using backend SequentialBackend with 1 concurrent workers.\n",
            "[Parallel(n_jobs=1)]: Done   1 out of   1 | elapsed:    0.2s remaining:    0.0s\n",
            "[Parallel(n_jobs=1)]: Done   3 out of   3 | elapsed:    0.5s finished\n",
            "\n",
            "[2022-11-25 19:22:01] Features: 3/4 -- score: 0.37444747225462377[Parallel(n_jobs=1)]: Using backend SequentialBackend with 1 concurrent workers.\n",
            "[Parallel(n_jobs=1)]: Done   1 out of   1 | elapsed:    0.2s remaining:    0.0s\n",
            "[Parallel(n_jobs=1)]: Done   2 out of   2 | elapsed:    0.4s finished\n",
            "\n",
            "[2022-11-25 19:22:01] Features: 4/4 -- score: 0.46967259991168264"
          ]
        }
      ]
    },
    {
      "cell_type": "code",
      "source": [
        "# The columns at these indexes are those which were selected\n",
        "\n",
        "feat_cols = list(feature_selector.k_feature_idx_)\n",
        "print(feat_cols)"
      ],
      "metadata": {
        "colab": {
          "base_uri": "https://localhost:8080/"
        },
        "id": "siHugcCCLqS1",
        "outputId": "e8dbb7a6-9e03-4e80-c0dd-c4e5351719b8"
      },
      "execution_count": 113,
      "outputs": [
        {
          "output_type": "stream",
          "name": "stdout",
          "text": [
            "[0, 1, 2, 3]\n"
          ]
        }
      ]
    },
    {
      "cell_type": "code",
      "source": [
        "# We can now use those features to build our model\n",
        "\n",
        "# Without step forward feature selection (sffs)\n",
        "dec_regressor = DecisionTreeRegressor(random_state=27)\n",
        "dec_regressor.fit(features_train, target_train)\n",
        "\n",
        "# With step forward feature selection\n",
        "\n",
        "dec_regressor2 = DecisionTreeRegressor(random_state=27)\n",
        "dec_regressor2.fit(features_train[:, feat_cols], target_train)\n",
        "\n",
        "# Making Predictions and determining the accuracies\n",
        "\n",
        "target_test_pred = dec_regressor.predict(features_test)\n",
        "print('Decision Tree RMSE Without sffs:', np.sqrt(metrics.mean_squared_error(target_test, target_test_pred)))\n",
        "\n",
        "target_test_pred2 = dec_regressor2.predict(features_test[:, feat_cols])\n",
        "print('Decision Tree RMSE with sffs:', np.sqrt(metrics.mean_squared_error(target_test, target_test_pred2)))"
      ],
      "metadata": {
        "colab": {
          "base_uri": "https://localhost:8080/"
        },
        "id": "UfmzNMYBLvyu",
        "outputId": "1051312f-76d7-46fa-8a9a-432d1bcab797"
      },
      "execution_count": 114,
      "outputs": [
        {
          "output_type": "stream",
          "name": "stdout",
          "text": [
            "Decision Tree RMSE Without sffs: 517.6035755446537\n",
            "Decision Tree RMSE with sffs: 562.8970982738125\n"
          ]
        }
      ]
    }
  ]
}